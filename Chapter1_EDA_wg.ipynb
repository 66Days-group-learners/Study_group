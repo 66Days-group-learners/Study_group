{
  "nbformat": 4,
  "nbformat_minor": 0,
  "metadata": {
    "colab": {
      "name": "Chapter1_EDA_wg.ipynb",
      "provenance": [],
      "collapsed_sections": [],
      "toc_visible": true
    },
    "kernelspec": {
      "name": "python3",
      "display_name": "Python 3"
    },
    "language_info": {
      "name": "python"
    }
  },
  "cells": [
    {
      "cell_type": "markdown",
      "metadata": {
        "id": "7O4KjIjF0ptU"
      },
      "source": [
        "# Practical Statistics for Data Scientists: 50+ Essential Concepts Using R and Python 2nd Edition"
      ]
    },
    {
      "cell_type": "markdown",
      "metadata": {
        "id": "uJGH_86d0q30"
      },
      "source": [
        "## Chapter 1. Exploratory Data Analysis"
      ]
    },
    {
      "cell_type": "markdown",
      "metadata": {
        "id": "Qoe0TDDNdKfz"
      },
      "source": [
        "### Initialize"
      ]
    },
    {
      "cell_type": "code",
      "metadata": {
        "id": "aS8l9FsVT2Os"
      },
      "source": [
        "# Load libraries\n",
        "import numpy as np # linear algebra\n",
        "import pandas as pd # data processing, CSV file I/O (e.g. pd.read_csv)\n",
        "import matplotlib.pyplot as plt # ploting the data\n",
        "import seaborn as sns # ploting the data"
      ],
      "execution_count": 1,
      "outputs": []
    },
    {
      "cell_type": "code",
      "metadata": {
        "id": "fTEAPrsPT4KM"
      },
      "source": [
        "# Auto mount google drive folder: https://stackoverflow.com/questions/52808143/colab-automatic-authentication-of-connection-to-google-drive-persistent-per-n\n",
        "# List files\n",
        "# see https://careerkarma.com/blog/python-list-files-in-directory/\n",
        "project_folder = '/content/drive/MyDrive/Data_science/66DaysofData/Study_group'\n",
        "project_data_folder = project_folder + '/Data'\n",
        "project_result_folder = project_folder + '/Output'\n",
        "#import os\n",
        "#os.listdir(project_data_folder)"
      ],
      "execution_count": 10,
      "outputs": []
    },
    {
      "cell_type": "markdown",
      "metadata": {
        "id": "xW9KqDkPdXWZ"
      },
      "source": [
        "### John Tukey"
      ]
    },
    {
      "cell_type": "markdown",
      "metadata": {
        "id": "KY6z1Qs4daLN"
      },
      "source": [
        "* John Wilder Tukey (16 juin 1915-26 juillet 2000) is one of the funder of the Data Science field.\n",
        "* In *The Future of Data Analysis* ([1]()) and *Exploratory Data Analysis* ([2]()) John Tukey elaborated was became the fundation of modern data analysis. \n"
      ]
    },
    {
      "cell_type": "markdown",
      "metadata": {
        "id": "5VxrZyAoemj4"
      },
      "source": [
        "### Elements of Structured Data\n",
        "\n",
        "* The different type of data are: numeric and categorical.\n",
        "* Numeric data can be continuous (Height) or discrete (Event count).\n",
        "* Categorical data can take a fixed set of values (Countries names). I these categories can be ordered the data are Ordinal. If the data can only take one of two values they are Binary."
      ]
    },
    {
      "cell_type": "markdown",
      "metadata": {
        "id": "jmmztKe2en6O"
      },
      "source": [
        "### Rectangular Data"
      ]
    },
    {
      "cell_type": "code",
      "metadata": {
        "id": "pr9y-rvFqE6N"
      },
      "source": [
        ""
      ],
      "execution_count": null,
      "outputs": []
    },
    {
      "cell_type": "markdown",
      "metadata": {
        "id": "AzzLveCrerb9"
      },
      "source": [
        "### Estimates of Location"
      ]
    },
    {
      "cell_type": "markdown",
      "metadata": {
        "id": "hKMdwcaqevvP"
      },
      "source": [
        "### Estimates of Variability"
      ]
    },
    {
      "cell_type": "markdown",
      "metadata": {
        "id": "gyjRgPYIg8dM"
      },
      "source": [
        "### Exploring the Data Distribution"
      ]
    },
    {
      "cell_type": "markdown",
      "metadata": {
        "id": "GXHPDyx6g_ur"
      },
      "source": [
        "### Exploring Binary and Categorical Data"
      ]
    },
    {
      "cell_type": "markdown",
      "metadata": {
        "id": "yXEXoDA4hDNH"
      },
      "source": [
        "### Correlation"
      ]
    },
    {
      "cell_type": "markdown",
      "metadata": {
        "id": "tsru8SaRhGSc"
      },
      "source": [
        "### Exploring Two or More Variables"
      ]
    },
    {
      "cell_type": "markdown",
      "metadata": {
        "id": "Vvb6u7PuhI1H"
      },
      "source": [
        "### Summary"
      ]
    },
    {
      "cell_type": "markdown",
      "metadata": {
        "id": "x0P0HKqseKOA"
      },
      "source": [
        "### References\n",
        "\n",
        "1.   The Future of Data Analysis\n",
        "2.   Exploratory Data Analysis\n",
        "\n"
      ]
    }
  ]
}